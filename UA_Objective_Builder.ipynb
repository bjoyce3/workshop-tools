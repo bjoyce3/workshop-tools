{
 "cells": [
  {
   "cell_type": "markdown",
   "metadata": {},
   "source": [
    "# Learning Outcomes Builder"
   ]
  },
  {
   "cell_type": "markdown",
   "metadata": {},
   "source": [
    "About Learning Objectives\n",
    "\n",
    "Learning Objectives are statements that describe the specific knowledge, skills, or abilities student will be able to demonstrate in the real world as a result of completing a lesson. Learning objectives should not be assignment-specific, however, an assignment should allow students to demonstrate they have achieved the lesson objective(s). All of the learning objectives should support the course outcomes."
   ]
  },
  {
   "cell_type": "markdown",
   "metadata": {},
   "source": [
    "Learning outcomes are statements \"of what we want the students to be able to do at the end of the [activity, lesson, course, or program]. It is very helpful to articulate learning objectives by completing this prompt:\n",
    "\n",
    "“At the end of the course, students should be able to _____.”"
   ]
  },
  {
   "cell_type": "markdown",
   "metadata": {},
   "source": [
    "Learning objectives/outcomes are tools that help us clarify and communicate the end goal of learning, as well as help keep us and our students on course. They also help determine how learning occurs."
   ]
  },
  {
   "cell_type": "markdown",
   "metadata": {},
   "source": [
    "The most common format for learning objectives/outcomes is described by Benjamin Bloom in his Taxonomy of Educational Objectives (1956). The taxonomy was later revised and improved by Lorin Anderson and David Krathwohl in A Taxonomy for Learning, Teaching, and Assessing: A Revision of Bloom’s Taxonomy of Educational Objectives (2001). It remains known as Bloom's (Revised) Taxonomy. In this particular model of categorizing what students are able to do at different learning levels, there are three domains of learning: Cognitive (depicted in the graphic on the right), Affective (relating to valuing and motivation), and Psychomotor (related to movement and physical skills). If you are interested, you can learn more about these in the blog article \"Three Domains of Learning\" (Leslie Owen Wilson, The Second Principle, 2020)."
   ]
  },
  {
   "cell_type": "markdown",
   "metadata": {},
   "source": [
    "![Bloom's Taxonomy](Bloom's_Taxonomy.png)"
   ]
  },
  {
   "cell_type": "markdown",
   "metadata": {},
   "source": [
    "Clearly articulating learning objectives/outcomes helps us conceptualize the needs and trajectory of our lessons, activities, courses, and programs."
   ]
  },
  {
   "cell_type": "markdown",
   "metadata": {},
   "source": [
    "## \"Learning Objectives Samples\" (Carnegie Mellon University, 2016)\n",
    "https://www.cmu.edu/teaching/designteach/design/learningobjectives-samples/"
   ]
  },
  {
   "cell_type": "markdown",
   "metadata": {},
   "source": [
    "S – Specific in that it says exactly what the learner will be able to do\n",
    "\n",
    "M – Measurable in that it can be observed by the end of the training session\n",
    "\n",
    "A – Attainable for the participants within the scheduled time and specified conditions\n",
    "\n",
    "R – Relevant to the needs of the participant and the organization\n",
    "\n",
    "T – Time-framed in that it is achievable by the end of the training session\n",
    "\n",
    "Source: Learning Objectives Handout from WIT."
   ]
  },
  {
   "cell_type": "markdown",
   "metadata": {},
   "source": [
    "LO's should:\n",
    "\n",
    "be specific & well defined: LOs should concisely state the specific\n",
    "KSAs that learners should develop as a result of instruction;\n",
    "\n",
    "be realistic: LOs must be attainable given the context and re-\n",
    "sources available for instruction, and consistent with learners’\n",
    "abilities, developmental levels, prerequisite KSAs, and the time\n",
    "needed vs. time available to achieve them;\n",
    "\n",
    "rely on active verbs, phrased in the future tense: LOs should be\n",
    "stated in terms of what successful learners will be able to do as\n",
    "a result of instruction;\n",
    "\n",
    "focus on learning products, not the learning process: LOs should\n",
    "not state what instructors will do during instruction, but what\n",
    "learners will be able to do as result of instruction;\n",
    "\n",
    "be simple, not compound: LOs shouldn’t include compound\n",
    "statements that join two or more KSAs into one statement;\n",
    "\n",
    "be appropriate in number: LOs should be deliverable and as-\n",
    "sessable within the time available for instruction;\n",
    "\n",
    "support assessment that generates actionable evidence: here,\n",
    "actionable means supportive of a decision, or taking some ac-\n",
    "tion by a learner or instructor."
   ]
  },
  {
   "cell_type": "markdown",
   "metadata": {},
   "source": []
  },
  {
   "cell_type": "markdown",
   "metadata": {},
   "source": []
  },
  {
   "cell_type": "markdown",
   "metadata": {},
   "source": []
  },
  {
   "cell_type": "markdown",
   "metadata": {},
   "source": []
  },
  {
   "cell_type": "markdown",
   "metadata": {},
   "source": []
  },
  {
   "cell_type": "markdown",
   "metadata": {},
   "source": []
  },
  {
   "cell_type": "markdown",
   "metadata": {},
   "source": []
  },
  {
   "cell_type": "markdown",
   "metadata": {},
   "source": []
  },
  {
   "cell_type": "markdown",
   "metadata": {},
   "source": []
  },
  {
   "cell_type": "markdown",
   "metadata": {},
   "source": []
  },
  {
   "cell_type": "markdown",
   "metadata": {},
   "source": []
  },
  {
   "cell_type": "markdown",
   "metadata": {},
   "source": []
  },
  {
   "cell_type": "markdown",
   "metadata": {},
   "source": []
  },
  {
   "cell_type": "markdown",
   "metadata": {},
   "source": []
  },
  {
   "cell_type": "markdown",
   "metadata": {},
   "source": [
    "Objectives Builder Tool\n",
    "\n",
    "Use the below objectives builder tool to begin designing objectives."
   ]
  },
  {
   "cell_type": "markdown",
   "metadata": {},
   "source": [
    "#### watch video"
   ]
  },
  {
   "cell_type": "code",
   "execution_count": 2,
   "metadata": {},
   "outputs": [],
   "source": [
    "import ipywidgets as widgets\n",
    "from IPython.display import display"
   ]
  },
  {
   "cell_type": "code",
   "execution_count": 3,
   "metadata": {
    "jupyter": {
     "source_hidden": true
    }
   },
   "outputs": [],
   "source": [
    "from ipywidgets import interact, interactive, fixed, interact_manual"
   ]
  },
  {
   "cell_type": "code",
   "execution_count": 86,
   "metadata": {},
   "outputs": [
    {
     "data": {
      "application/vnd.jupyter.widget-view+json": {
       "model_id": "c693f63290e44d53a887d35fcf6c4abe",
       "version_major": 2,
       "version_minor": 0
      },
      "text/plain": [
       "Text(value='', description='Enter Instructor Name:', placeholder='Instructor Names', style=DescriptionStyle(de…"
      ]
     },
     "metadata": {},
     "output_type": "display_data"
    },
    {
     "data": {
      "application/vnd.jupyter.widget-view+json": {
       "model_id": "1ea8c72bbbd743dc86540fc0c155dbd0",
       "version_major": 2,
       "version_minor": 0
      },
      "text/plain": [
       "Text(value='', description='Enter Course Name:', placeholder='Course/Workshop/Lesson', style=DescriptionStyle(…"
      ]
     },
     "metadata": {},
     "output_type": "display_data"
    },
    {
     "data": {
      "application/vnd.jupyter.widget-view+json": {
       "model_id": "c83a3fd3986f429eb74d1525dbf4b670",
       "version_major": 2,
       "version_minor": 0
      },
      "text/plain": [
       "Text(value='', description='Enter E-Mail Address:', placeholder='@arizona.edu', style=DescriptionStyle(descrip…"
      ]
     },
     "metadata": {},
     "output_type": "display_data"
    },
    {
     "data": {
      "application/vnd.jupyter.widget-view+json": {
       "model_id": "39eea8808ef6439a9c1a54fd180a44e8",
       "version_major": 2,
       "version_minor": 0
      },
      "text/plain": [
       "Text(value='', description='Enter Institutional affiliation:', placeholder='UArizona', style=DescriptionStyle(…"
      ]
     },
     "metadata": {},
     "output_type": "display_data"
    },
    {
     "data": {
      "application/vnd.jupyter.widget-view+json": {
       "model_id": "d249193844d84d238e0dc8caac96bb45",
       "version_major": 2,
       "version_minor": 0
      },
      "text/plain": [
       "RadioButtons(description='Will this workshop be held online or in-person?:', layout=Layout(width='30%'), optio…"
      ]
     },
     "metadata": {},
     "output_type": "display_data"
    },
    {
     "data": {
      "application/vnd.jupyter.widget-view+json": {
       "model_id": "275f532bf8394d5496e20964dae5b23d",
       "version_major": 2,
       "version_minor": 0
      },
      "text/plain": [
       "DatePicker(value=None, description='Workshop Date', style=DescriptionStyle(description_width='initial'))"
      ]
     },
     "metadata": {},
     "output_type": "display_data"
    },
    {
     "data": {
      "application/vnd.jupyter.widget-view+json": {
       "model_id": "e12489548af745f3afcd69ece67b96f2",
       "version_major": 2,
       "version_minor": 0
      },
      "text/plain": [
       "Dropdown(description='Domains or topic of interest for target audience:', layout=Layout(width='50%'), options=…"
      ]
     },
     "metadata": {},
     "output_type": "display_data"
    },
    {
     "data": {
      "application/vnd.jupyter.widget-view+json": {
       "model_id": "33ffc2428b7a4d6e8e17391817f8e018",
       "version_major": 2,
       "version_minor": 0
      },
      "text/plain": [
       "ToggleButtons(description='Attendees academic level / career stage:', layout=Layout(width='50%'), options=('Do…"
      ]
     },
     "metadata": {},
     "output_type": "display_data"
    }
   ],
   "source": [
    "instructor = widgets.Text(\n",
    "    placeholder='Instructor Names',\n",
    "    style = {'description_width': 'initial', 'font_weight': 'bold'},\n",
    "    description='Enter Instructor Name:',\n",
    "    disabled=False\n",
    ")\n",
    "lesson = widgets.Text(\n",
    "    placeholder='Course/Workshop/Lesson',\n",
    "    style = {'description_width': 'initial', 'font_weight': 'bold'},\n",
    "    description='Enter Course Name:',\n",
    "    disabled=False\n",
    ")\n",
    "email = widgets.Text(\n",
    "    placeholder='@arizona.edu',\n",
    "    style = {'description_width': 'initial', 'font_weight': 'bold'},\n",
    "    description='Enter E-Mail Address:',\n",
    "    disabled=False\n",
    ")\n",
    "institution = widgets.Text(\n",
    "    placeholder='UArizona',\n",
    "    style = {'description_width': 'initial', 'font_weight': 'bold'},\n",
    "    description='Enter Institutional affiliation:',\n",
    "    disabled=False\n",
    ")\n",
    "\n",
    "workshop_type = widgets.RadioButtons(\n",
    "    options=['Online', 'In-person', 'Not Sure'],\n",
    "    style = {'description_width': 'initial', 'font_weight': 'bold'},\n",
    "    description='Will this workshop be held online or in-person?:',\n",
    "    layout=widgets.Layout(width=\"30%\"),\n",
    "    disabled=False\n",
    ")\n",
    "\n",
    "domain = widgets.Dropdown(\n",
    "    options=['Do not know yet ', 'Chemistry ', 'Civil, mechanical, chemical, or nuclear engineering', 'Computer science/electrical engineering', 'Economics/business', 'Education', 'Genetics, genomics, bioinformatics', 'High performance computing', 'Humanities', 'Library and information science', 'Mathematics/statistics', 'Medicine', 'Organismal biology (ecology, botany, zoology, microbiology)', 'Physics', 'Planetary sciences (geology, climatology, oceanography, etc.', 'Psychology/neuroscience', 'Social sciences', 'Space sciences'],\n",
    "    style = {'description_width': 'initial', 'font_weight': 'bold'},\n",
    "    description='Domains or topic of interest for target audience:',\n",
    "    layout=widgets.Layout(width=\"50%\"),\n",
    "    disabled=False\n",
    ")\n",
    "\n",
    "\n",
    "audience = widgets.ToggleButtons(\n",
    "    options=['Do not know yet ', 'Graduate ', 'Undergraduate', 'Post-doctorate', 'Industry', 'Staff', 'Faculty'],\n",
    "    style = {'description_width': 'initial', 'font_weight': 'bold'},\n",
    "    description='Attendees academic level / career stage:',\n",
    "    layout=widgets.Layout(width=\"50%\"),\n",
    "    disabled=False\n",
    ")\n",
    "\n",
    "date = widgets.DatePicker(\n",
    "    description='Workshop Date',\n",
    "    style = {'description_width': 'initial', 'font_weight': 'bold'},\n",
    ")\n",
    "date\n",
    "\n",
    "display(instructor, lesson, email, institution, workshop_type, date, domain, audience)"
   ]
  },
  {
   "cell_type": "markdown",
   "metadata": {},
   "source": [
    "### Remember is the lowest level of complexity. Click on the toggle buttons for a description of each domain and associated Bloom's Taxonomy verbs\n",
    "![Bloom's Taxonomy](Bloom_Taxonomy.png)"
   ]
  },
  {
   "cell_type": "markdown",
   "metadata": {},
   "source": [
    "# Step-1: Choose a cognitive domain\n",
    "# Step-2: Choose appropriate verb\n",
    "# Step-3: Using chosen verb, write/construct learning outcome"
   ]
  },
  {
   "cell_type": "code",
   "execution_count": 6,
   "metadata": {
    "jupyter": {
     "source_hidden": true
    }
   },
   "outputs": [],
   "source": [
    "remember = widgets.ToggleButtons(\n",
    "    options=['Memorize', 'Recognize', 'Identify', 'Describe', 'Reproduce', 'List', 'Define', 'Label', 'Name', 'Outline', 'Order', 'Arrange', 'Select', 'State'],\n",
    "    style = {'description_width': 'initial', 'font_weight': 'bold'},\n",
    "    description='Blooms-1: Remember - Recall or reiterate information',\n",
    "    orientation='vertical',\n",
    "    disabled=False,\n",
    "    button_style='success', # 'success', 'info', 'warning', 'danger' or ''\n",
    "    layout=widgets.Layout(width=\"30%\")\n",
    ")\n",
    "understand = widgets.ToggleButtons(\n",
    "    options=['Distinguish', 'Classify', 'Select', 'Review', 'Discuss', 'Indicate', 'Explain', 'Estimate', 'locate', 'Summarize'],\n",
    "    style = {'description_width': 'initial', 'font_weight': 'bold'},\n",
    "    description='Blooms-2: Understand - Demonstrate understanding of facts',\n",
    "    orientation='vertical',\n",
    "    disabled=False,\n",
    "    button_style='success', # 'success', 'info', 'warning', 'danger' or ''\n",
    "    layout=widgets.Layout(width=\"30%\")\n",
    ")\n",
    "apply = widgets.ToggleButtons(\n",
    "    options=['Operate', 'Manipulate', 'Experiment', 'Choose', 'Modify', 'Prepare', 'Produce'],\n",
    "    style = {'description_width': 'initial', 'font_weight': 'bold'},\n",
    "    description='Blooms-3: Apply - Apply knowledge to real situations',\n",
    "    orientation='vertical',\n",
    "    disabled=False,\n",
    "    button_style='success', # 'success', 'info', 'warning', 'danger' or ''\n",
    "    layout=widgets.Layout(width=\"30%\")\n",
    ")\n",
    "analyse = widgets.ToggleButtons(\n",
    "    options=['Calculate', 'Examine', 'Model', 'Test', 'Break Down', 'Infer', 'Predict', 'Solve'],\n",
    "    style = {'description_width': 'initial', 'font_weight': 'bold'},\n",
    "    description='Blooms-4: Analyse - Resolve ideas into simple parts, identify patterns',\n",
    "    orientation='vertical',\n",
    "    disabled=False,\n",
    "    button_style='success', # 'success', 'info', 'warning', 'danger' or ''\n",
    "    layout=widgets.Layout(width=\"30%\")\n",
    ")\n",
    "synthesise = widgets.ToggleButtons(\n",
    "    options=['Combine', 'Formulate', 'Illustrate', 'Imagine', 'Design', 'Invent', 'Compose'],\n",
    "    style = {'description_width': 'initial', 'font_weight': 'bold'},\n",
    "    description='Blooms-5: Synthesise - Pull ideas into a coherent whole, create new ideas',\n",
    "    orientation='vertical',\n",
    "    disabled=False,\n",
    "    button_style='success', # 'success', 'info', 'warning', 'danger' or ''\n",
    "    layout=widgets.Layout(width=\"30%\")\n",
    ")\n",
    "evaluate = widgets.ToggleButtons(\n",
    "    options=['Critique', 'Compare ideas', 'Solve', 'Recommend', 'Rate'],\n",
    "    style = {'description_width': 'initial', 'font_weight': 'bold'},\n",
    "    description='Blooms-6: Evaluate - Make & defend judgements, assess theories & outcomes',\n",
    "    orientation='vertical',\n",
    "    disabled=False,\n",
    "    button_style='success', # 'success', 'info', 'warning', 'danger' or ''\n",
    "    layout=widgets.Layout(width=\"30%\")\n",
    ")"
   ]
  },
  {
   "cell_type": "code",
   "execution_count": 82,
   "metadata": {},
   "outputs": [
    {
     "data": {
      "application/vnd.jupyter.widget-view+json": {
       "model_id": "fd1431a4350a4557ba2178206d64efe2",
       "version_major": 2,
       "version_minor": 0
      },
      "text/plain": [
       "VBox(children=(HBox(children=(Button(button_style='info', description='Remember', layout=Layout(width='50%'), …"
      ]
     },
     "metadata": {},
     "output_type": "display_data"
    }
   ],
   "source": [
    "bloom1 = widgets.Button(\n",
    "        description='Remember',\n",
    "        orientation='vertical',\n",
    "        style = {'description_width': 'initial', 'font_weight': 'bold'},\n",
    "        disabled=False,\n",
    "        button_style='info', # 'success', 'info', 'warning', 'danger' or ''\n",
    "        layout=widgets.Layout(width=\"50%\")\n",
    ")\n",
    "bloom2 = widgets.Button(\n",
    "        description='Understand',\n",
    "        orientation='vertical',\n",
    "        style = {'description_width': 'initial', 'font_weight': 'bold'},\n",
    "        disabled=False,\n",
    "        button_style='info', # 'success', 'info', 'warning', 'danger' or ''\n",
    "        layout=widgets.Layout(width=\"50%\")\n",
    ")\n",
    "bloom3 = widgets.Button(\n",
    "        description='Apply',\n",
    "        orientation='vertical',\n",
    "        style = {'description_width': 'initial', 'font_weight': 'bold'},\n",
    "        disabled=False,\n",
    "        button_style='info', # 'success', 'info', 'warning', 'danger' or ''\n",
    "        layout=widgets.Layout(width=\"50%\")\n",
    ")\n",
    "bloom4 = widgets.Button(\n",
    "        description='Analyze',\n",
    "        orientation='vertical',\n",
    "        style = {'description_width': 'initial', 'font_weight': 'bold'},\n",
    "        disabled=False,\n",
    "        button_style='info', # 'success', 'info', 'warning', 'danger' or ''\n",
    "        layout=widgets.Layout(width=\"50%\")\n",
    ")\n",
    "bloom5 = widgets.Button(\n",
    "        description='Synthesise',\n",
    "        orientation='vertical',\n",
    "        style = {'description_width': 'initial', 'font_weight': 'bold'},\n",
    "        disabled=False,\n",
    "        button_style='info', # 'success', 'info', 'warning', 'danger' or ''\n",
    "        layout=widgets.Layout(width=\"50%\")\n",
    ")\n",
    "bloom6 = widgets.Button(\n",
    "        description='Evaluate',\n",
    "        orientation='vertical',\n",
    "        style = {'description_width': 'initial', 'font_weight': 'bold'},\n",
    "        disabled=False,\n",
    "        button_style='info', # 'success', 'info', 'warning', 'danger' or ''\n",
    "        layout=widgets.Layout(width=\"50%\")\n",
    ")\n",
    "\n",
    "box1 = widgets.HBox([bloom1, bloom2, bloom3])\n",
    "box2 = widgets.HBox([bloom4, bloom5, bloom6])\n",
    "\n",
    "out = widgets.Output()\n",
    "\n",
    "display(widgets.VBox([box1, box2, out]))\n",
    "\n",
    "lo = widgets.Textarea(\n",
    "    placeholder='By the end of this course/module/workshop you, will be able to',\n",
    "    style = {'description_width': 'initial', 'font_weight': 'bold'},\n",
    "    description='Learning Outcome:',\n",
    "    disabled=False,\n",
    "    layout=widgets.Layout(width=\"90%\")\n",
    ")\n",
    "\n",
    "\n",
    "@bloom1.on_click\n",
    "def display_on_click(bloom1):\n",
    "    with out:\n",
    "        out.clear_output()\n",
    "        display(remember, lo)\n",
    "\n",
    "@bloom2.on_click\n",
    "def display_on_click(bloom2):\n",
    "    with out:\n",
    "        out.clear_output()\n",
    "        display(understand, lo)\n",
    "        \n",
    "@bloom3.on_click\n",
    "def display_on_click(bloom3):\n",
    "    with out:\n",
    "        out.clear_output()\n",
    "        display(apply, lo)\n",
    "        \n",
    "@bloom4.on_click\n",
    "def display_on_click(bloom4):\n",
    "    with out:\n",
    "        out.clear_output()\n",
    "        display(analyse, lo)\n",
    "        \n",
    "@bloom5.on_click\n",
    "def display_on_click(bloom5):\n",
    "    with out:\n",
    "        out.clear_output()\n",
    "        display(synthesise, lo)\n",
    "        \n",
    "@bloom6.on_click\n",
    "def display_on_click(bloom6):\n",
    "    with out:\n",
    "        out.clear_output()\n",
    "        display(evaluate, lo)\n",
    "\n"
   ]
  },
  {
   "cell_type": "code",
   "execution_count": 84,
   "metadata": {},
   "outputs": [],
   "source": [
    "outcomes = []\n",
    "outcomes.append(lo.value)"
   ]
  },
  {
   "cell_type": "code",
   "execution_count": null,
   "metadata": {},
   "outputs": [],
   "source": []
  },
  {
   "cell_type": "code",
   "execution_count": 89,
   "metadata": {},
   "outputs": [
    {
     "name": "stdout",
     "output_type": "stream",
     "text": [
      "Instructor: \n",
      "Workshop Name: \n",
      "Email: \n",
      "Institution: \n",
      "Workshop Delivery: Online\n",
      "Workshop Date: None\n",
      "Domain: Do not know yet \n",
      "Audience: Do not know yet \n",
      "Learning Outcomes : \n",
      "outline examples\n",
      "compare ideas\n",
      "Infer results\n"
     ]
    }
   ],
   "source": [
    "print(('Instructor: ') + instructor.value)\n",
    "print(('Workshop Name: ') + lesson.value)\n",
    "print(('Email: ') + email.value)\n",
    "print(('Institution: ') + institution.value)\n",
    "print(('Workshop Delivery: ') + workshop_type.value)\n",
    "print(('Workshop Date: ') + str(date.value))\n",
    "print(('Domain: ') + domain.value)\n",
    "print(('Audience: ') + audience.value)\n",
    "print(('Learning Outcomes : ') + \"\\n\" + outcomes[0])"
   ]
  },
  {
   "cell_type": "markdown",
   "metadata": {},
   "source": []
  },
  {
   "cell_type": "markdown",
   "metadata": {},
   "source": [
    "# Manchester FSE Intended Learning Outcome Advisor TOOL\n",
    "\n",
    "To determine how well you’ve structured your LO,\n",
    "\n",
    "visit the Intended Learning Outcome Advisor: https://web.cs.manchester.ac.uk/ iloadvisor \n",
    "\n",
    "paste your phrase into the input box. Press the ‘SUBMIT’ button. How well did you do?"
   ]
  },
  {
   "cell_type": "code",
   "execution_count": null,
   "metadata": {},
   "outputs": [],
   "source": []
  },
  {
   "cell_type": "code",
   "execution_count": null,
   "metadata": {},
   "outputs": [],
   "source": []
  },
  {
   "cell_type": "code",
   "execution_count": null,
   "metadata": {},
   "outputs": [],
   "source": []
  },
  {
   "cell_type": "code",
   "execution_count": null,
   "metadata": {},
   "outputs": [],
   "source": []
  },
  {
   "cell_type": "markdown",
   "metadata": {},
   "source": []
  },
  {
   "cell_type": "markdown",
   "metadata": {},
   "source": [
    "Sources:\n",
    "\n",
    "Anderson, L. W., Krathwohl, D. R., & Bloom, B. S. (2001). A taxonomy for learning, teaching, and assessing: A revision of Bloom's taxonomy of educational objectives (Abridged ed.). New York; London: Longman.\n",
    "\n",
    "Fink, L. Dee. (2013). Creating Significant Learning Experiences: An Integrated Approach to Designing College Courses. San Francisco: Jossey-Bass."
   ]
  },
  {
   "cell_type": "markdown",
   "metadata": {},
   "source": []
  },
  {
   "cell_type": "markdown",
   "metadata": {},
   "source": []
  },
  {
   "cell_type": "markdown",
   "metadata": {},
   "source": []
  },
  {
   "cell_type": "markdown",
   "metadata": {},
   "source": []
  },
  {
   "cell_type": "markdown",
   "metadata": {},
   "source": []
  },
  {
   "cell_type": "markdown",
   "metadata": {},
   "source": []
  },
  {
   "cell_type": "markdown",
   "metadata": {},
   "source": []
  }
 ],
 "metadata": {
  "kernelspec": {
   "display_name": "Python 3",
   "language": "python",
   "name": "python3"
  },
  "language_info": {
   "codemirror_mode": {
    "name": "ipython",
    "version": 3
   },
   "file_extension": ".py",
   "mimetype": "text/x-python",
   "name": "python",
   "nbconvert_exporter": "python",
   "pygments_lexer": "ipython3",
   "version": "3.8.5"
  }
 },
 "nbformat": 4,
 "nbformat_minor": 4
}
