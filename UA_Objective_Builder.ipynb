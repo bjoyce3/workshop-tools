{
 "cells": [
  {
   "cell_type": "markdown",
   "metadata": {},
   "source": [
    "# Learning Outcomes Builder"
   ]
  },
  {
   "cell_type": "code",
   "execution_count": 1,
   "metadata": {
    "jupyter": {
     "source_hidden": true
    }
   },
   "outputs": [],
   "source": [
    "import ipywidgets as widgets\n",
    "from IPython.display import display"
   ]
  },
  {
   "cell_type": "code",
   "execution_count": 2,
   "metadata": {
    "jupyter": {
     "source_hidden": true
    }
   },
   "outputs": [],
   "source": [
    "from ipywidgets import interact, interactive, fixed, interact_manual"
   ]
  },
  {
   "cell_type": "markdown",
   "metadata": {},
   "source": [
    "About Learning Objectives\n",
    "\n",
    "Learning Objectives are statements that describe the specific knowledge, skills, or abilities student will be able to demonstrate in the real world as a result of completing a lesson. Learning objectives should not be assignment-specific, however, an assignment should allow students to demonstrate they have achieved the lesson objective(s). All of the learning objectives should support the course outcomes."
   ]
  },
  {
   "cell_type": "markdown",
   "metadata": {},
   "source": [
    "Examples of Learning Objectives"
   ]
  },
  {
   "cell_type": "markdown",
   "metadata": {},
   "source": [
    "Objectives Builder Tool\n",
    "\n",
    "Use the below objectives builder tool to begin designing objectives."
   ]
  },
  {
   "cell_type": "markdown",
   "metadata": {},
   "source": [
    "#### watch video"
   ]
  },
  {
   "cell_type": "markdown",
   "metadata": {},
   "source": []
  },
  {
   "cell_type": "markdown",
   "metadata": {},
   "source": []
  },
  {
   "cell_type": "markdown",
   "metadata": {},
   "source": []
  },
  {
   "cell_type": "markdown",
   "metadata": {},
   "source": []
  },
  {
   "cell_type": "code",
   "execution_count": 3,
   "metadata": {},
   "outputs": [
    {
     "data": {
      "application/vnd.jupyter.widget-view+json": {
       "model_id": "a17fda6edad24a0b9b17da2bc55a8e9d",
       "version_major": 2,
       "version_minor": 0
      },
      "text/plain": [
       "Text(value='', description='Enter Names:', placeholder='Instructor Names')"
      ]
     },
     "metadata": {},
     "output_type": "display_data"
    }
   ],
   "source": [
    "instructor = widgets.Text(\n",
    "    placeholder='Instructor Names',\n",
    "    description='Enter Names:',\n",
    "    disabled=False\n",
    ")\n",
    "instructor"
   ]
  },
  {
   "cell_type": "code",
   "execution_count": 4,
   "metadata": {
    "jupyter": {
     "source_hidden": true
    }
   },
   "outputs": [
    {
     "data": {
      "application/vnd.jupyter.widget-view+json": {
       "model_id": "ec4da32bba744fab86230fda926ea55e",
       "version_major": 2,
       "version_minor": 0
      },
      "text/plain": [
       "DatePicker(value=None, description='Pick a Date')"
      ]
     },
     "metadata": {},
     "output_type": "display_data"
    }
   ],
   "source": [
    "date = widgets.DatePicker(\n",
    "    description='Pick a Date'\n",
    ")\n",
    "date"
   ]
  },
  {
   "cell_type": "markdown",
   "metadata": {},
   "source": [
    "# Step-1: Choose a cognitive domain"
   ]
  },
  {
   "cell_type": "markdown",
   "metadata": {},
   "source": [
    "### This is the level of complexity and specificity at which you expect students to perform"
   ]
  },
  {
   "cell_type": "markdown",
   "metadata": {},
   "source": [
    "### Remember is the lowest level of complexity. Click on the toggle buttons for a description of each domain and associated Bloom's Taxonomy verbs"
   ]
  },
  {
   "cell_type": "markdown",
   "metadata": {},
   "source": [
    "### This is the level of complexity and specificity at which you expect students to perform"
   ]
  },
  {
   "cell_type": "code",
   "execution_count": 5,
   "metadata": {
    "jupyter": {
     "source_hidden": true
    }
   },
   "outputs": [],
   "source": [
    "remember = widgets.ToggleButtons(\n",
    "    options=['Memorize', 'Recognize', 'Identify', 'Describe', 'Reproduce', 'List', 'Define', 'Label', 'Name', 'Outline', 'Order', 'Arrange', 'Select', 'State'],\n",
    "    style = {'description_width': 'initial', 'font_weight': 'bold'},\n",
    "    description='Blooms-1: Remember - Recall or reiterate information',\n",
    "    orientation='vertical',\n",
    "    disabled=False,\n",
    "    button_style='success', # 'success', 'info', 'warning', 'danger' or ''\n",
    "    layout=widgets.Layout(width=\"30%\")\n",
    ")\n",
    "understand = widgets.ToggleButtons(\n",
    "    options=['Distinguish', 'Classify', 'Select', 'Review', 'Discuss', 'Indicate', 'Explain', 'Estimate', 'locate', 'Summarize'],\n",
    "    style = {'description_width': 'initial', 'font_weight': 'bold'},\n",
    "    description='Blooms-2: Understand - Demonstrate understanding of facts',\n",
    "    orientation='vertical',\n",
    "    disabled=False,\n",
    "    button_style='success', # 'success', 'info', 'warning', 'danger' or ''\n",
    "    layout=widgets.Layout(width=\"30%\")\n",
    ")\n",
    "apply = widgets.ToggleButtons(\n",
    "    options=['Operate', 'Manipulate', 'Experiment', 'Choose', 'Modify', 'Prepare', 'Produce'],\n",
    "    style = {'description_width': 'initial', 'font_weight': 'bold'},\n",
    "    description='Blooms-3: Apply - Apply knowledge to real situations',\n",
    "    orientation='vertical',\n",
    "    disabled=False,\n",
    "    button_style='success', # 'success', 'info', 'warning', 'danger' or ''\n",
    "    layout=widgets.Layout(width=\"30%\")\n",
    ")\n",
    "analyse = widgets.ToggleButtons(\n",
    "    options=['Calculate', 'Examine', 'Model', 'Test', 'Break Down', 'Infer', 'Predict', 'Solve'],\n",
    "    style = {'description_width': 'initial', 'font_weight': 'bold'},\n",
    "    description='Blooms-4: Analyse - Resolve ideas into simple parts, identify patterns',\n",
    "    orientation='vertical',\n",
    "    disabled=False,\n",
    "    button_style='success', # 'success', 'info', 'warning', 'danger' or ''\n",
    "    layout=widgets.Layout(width=\"30%\")\n",
    ")\n",
    "synthesise = widgets.ToggleButtons(\n",
    "    options=['Combine', 'Formulate', 'Illustrate', 'Imagine', 'Design', 'Invent', 'Compose'],\n",
    "    style = {'description_width': 'initial', 'font_weight': 'bold'},\n",
    "    description='Blooms-5: Synthesise - Pull ideas into a coherent whole, create new ideas',\n",
    "    orientation='vertical',\n",
    "    disabled=False,\n",
    "    button_style='success', # 'success', 'info', 'warning', 'danger' or ''\n",
    "    layout=widgets.Layout(width=\"30%\")\n",
    ")\n",
    "evaluate = widgets.ToggleButtons(\n",
    "    options=['Critique', 'Compare ideas', 'Solve', 'Recommend', 'Rate'],\n",
    "    style = {'description_width': 'initial', 'font_weight': 'bold'},\n",
    "    description='Blooms-6: Evaluate - Make & defend judgements, assess theories & outcomes',\n",
    "    orientation='vertical',\n",
    "    disabled=False,\n",
    "    button_style='success', # 'success', 'info', 'warning', 'danger' or ''\n",
    "    layout=widgets.Layout(width=\"30%\")\n",
    ")"
   ]
  },
  {
   "cell_type": "code",
   "execution_count": 6,
   "metadata": {},
   "outputs": [
    {
     "data": {
      "application/vnd.jupyter.widget-view+json": {
       "model_id": "ddbbad821e2047d3aa8001b86961e832",
       "version_major": 2,
       "version_minor": 0
      },
      "text/plain": [
       "VBox(children=(HBox(children=(Button(button_style='info', description='Remember', layout=Layout(width='100%'),…"
      ]
     },
     "metadata": {},
     "output_type": "display_data"
    }
   ],
   "source": [
    "bloom1 = widgets.Button(\n",
    "        description='Remember',\n",
    "        orientation='vertical',\n",
    "        style = {'description_width': 'initial', 'font_weight': 'bold'},\n",
    "        disabled=False,\n",
    "        button_style='info', # 'success', 'info', 'warning', 'danger' or ''\n",
    "        layout=widgets.Layout(width=\"100%\")\n",
    ")\n",
    "bloom2 = widgets.Button(\n",
    "        description='Understand',\n",
    "        orientation='vertical',\n",
    "        style = {'description_width': 'initial', 'font_weight': 'bold'},\n",
    "        disabled=False,\n",
    "        button_style='info', # 'success', 'info', 'warning', 'danger' or ''\n",
    "        layout=widgets.Layout(width=\"100%\")\n",
    ")\n",
    "bloom3 = widgets.Button(\n",
    "        description='Apply',\n",
    "        orientation='vertical',\n",
    "        style = {'description_width': 'initial', 'font_weight': 'bold'},\n",
    "        disabled=False,\n",
    "        button_style='info', # 'success', 'info', 'warning', 'danger' or ''\n",
    "        layout=widgets.Layout(width=\"100%\")\n",
    ")\n",
    "bloom4 = widgets.Button(\n",
    "        description='Analyze',\n",
    "        orientation='vertical',\n",
    "        style = {'description_width': 'initial', 'font_weight': 'bold'},\n",
    "        disabled=False,\n",
    "        button_style='info', # 'success', 'info', 'warning', 'danger' or ''\n",
    "        layout=widgets.Layout(width=\"100%\")\n",
    ")\n",
    "bloom5 = widgets.Button(\n",
    "        description='Synthesise',\n",
    "        orientation='vertical',\n",
    "        style = {'description_width': 'initial', 'font_weight': 'bold'},\n",
    "        disabled=False,\n",
    "        button_style='info', # 'success', 'info', 'warning', 'danger' or ''\n",
    "        layout=widgets.Layout(width=\"100%\")\n",
    ")\n",
    "bloom6 = widgets.Button(\n",
    "        description='Evaluate',\n",
    "        orientation='vertical',\n",
    "        style = {'description_width': 'initial', 'font_weight': 'bold'},\n",
    "        disabled=False,\n",
    "        button_style='info', # 'success', 'info', 'warning', 'danger' or ''\n",
    "        layout=widgets.Layout(width=\"100%\")\n",
    ")\n",
    "\n",
    "box1 = widgets.HBox([bloom1, bloom2, bloom3])\n",
    "box2 = widgets.HBox([bloom4, bloom5, bloom6])\n",
    "\n",
    "out = widgets.Output()\n",
    "\n",
    "display(widgets.VBox([box1, box2, out]))\n",
    "\n",
    "lo = widgets.Textarea(\n",
    "    placeholder='By the end of this course/module/workshop you, will be able to',\n",
    "    style = {'description_width': 'initial', 'font_weight': 'bold'},\n",
    "    description='Learning Outcome:',\n",
    "    disabled=False\n",
    ")\n",
    "\n",
    "@bloom1.on_click\n",
    "def display_on_click(bloom1):\n",
    "    with out:\n",
    "        out.clear_output()\n",
    "        display(remember, lo)\n",
    "\n",
    "@bloom2.on_click\n",
    "def display_on_click(bloom2):\n",
    "    with out:\n",
    "        out.clear_output()\n",
    "        display(understand, lo)\n",
    "        \n",
    "@bloom3.on_click\n",
    "def display_on_click(bloom3):\n",
    "    with out:\n",
    "        out.clear_output()\n",
    "        display(apply, lo)\n",
    "        \n",
    "@bloom4.on_click\n",
    "def display_on_click(bloom4):\n",
    "    with out:\n",
    "        out.clear_output()\n",
    "        display(analyse, lo)\n",
    "        \n",
    "@bloom5.on_click\n",
    "def display_on_click(bloom5):\n",
    "    with out:\n",
    "        out.clear_output()\n",
    "        display(synthesise, lo)\n",
    "        \n",
    "@bloom6.on_click\n",
    "def display_on_click(bloom6):\n",
    "    with out:\n",
    "        out.clear_output()\n",
    "        display(evaluate, lo)\n",
    "\n"
   ]
  },
  {
   "cell_type": "code",
   "execution_count": null,
   "metadata": {},
   "outputs": [],
   "source": []
  },
  {
   "cell_type": "code",
   "execution_count": 7,
   "metadata": {},
   "outputs": [
    {
     "data": {
      "text/plain": [
       "''"
      ]
     },
     "execution_count": 7,
     "metadata": {},
     "output_type": "execute_result"
    }
   ],
   "source": [
    "lo.value"
   ]
  },
  {
   "cell_type": "markdown",
   "metadata": {},
   "source": [
    "# Manchester FSE ILO TOOL\n",
    "\n",
    "https://web.cs.manchester.ac.uk/iloadvisor/"
   ]
  },
  {
   "cell_type": "code",
   "execution_count": null,
   "metadata": {},
   "outputs": [],
   "source": []
  },
  {
   "cell_type": "code",
   "execution_count": null,
   "metadata": {},
   "outputs": [],
   "source": []
  },
  {
   "cell_type": "code",
   "execution_count": null,
   "metadata": {},
   "outputs": [],
   "source": []
  },
  {
   "cell_type": "code",
   "execution_count": 8,
   "metadata": {},
   "outputs": [
    {
     "data": {
      "application/vnd.jupyter.widget-view+json": {
       "model_id": "9f03e7cfe05a48228da17aa3affd97e9",
       "version_major": 2,
       "version_minor": 0
      },
      "text/plain": [
       "ToggleButtons(button_style='success', description='Blooms-1: Remember - Recall or reiterate information', layo…"
      ]
     },
     "metadata": {},
     "output_type": "display_data"
    }
   ],
   "source": [
    "test = widgets.ToggleButtons(\n",
    "    options=['Memorize', 'Recognize', 'Identify', 'Describe', 'Reproduce', 'List', 'Define', 'Label', 'Name', 'Outline', 'Order', 'Arrange', 'Select', 'State'],\n",
    "    style = {'description_width': 'initial', 'font_weight': 'bold'},\n",
    "    description='Blooms-1: Remember - Recall or reiterate information',\n",
    "    orientation='vertical',\n",
    "    disabled=False,\n",
    "    button_style='success', # 'success', 'info', 'warning', 'danger' or ''\n",
    "    layout=widgets.Layout(width=\"30%\")\n",
    ")\n",
    "test"
   ]
  },
  {
   "cell_type": "code",
   "execution_count": null,
   "metadata": {},
   "outputs": [],
   "source": []
  },
  {
   "cell_type": "markdown",
   "metadata": {},
   "source": [
    "LO's should:\n",
    "\n",
    "be specific & well defined: LOs should concisely state the specific\n",
    "KSAs that learners should develop as a result of instruction;\n",
    "\n",
    "be realistic: LOs must be attainable given the context and re-\n",
    "sources available for instruction, and consistent with learners’\n",
    "abilities, developmental levels, prerequisite KSAs, and the time\n",
    "needed vs. time available to achieve them;\n",
    "\n",
    "rely on active verbs, phrased in the future tense: LOs should be\n",
    "stated in terms of what successful learners will be able to do as\n",
    "a result of instruction;\n",
    "\n",
    "focus on learning products, not the learning process: LOs should\n",
    "not state what instructors will do during instruction, but what\n",
    "learners will be able to do as result of instruction;\n",
    "\n",
    "be simple, not compound: LOs shouldn’t include compound\n",
    "statements that join two or more KSAs into one statement;\n",
    "\n",
    "be appropriate in number: LOs should be deliverable and as-\n",
    "sessable within the time available for instruction;\n",
    "\n",
    "support assessment that generates actionable evidence: here,\n",
    "actionable means supportive of a decision, or taking some ac-\n",
    "tion by a learner or instructor."
   ]
  },
  {
   "cell_type": "code",
   "execution_count": null,
   "metadata": {},
   "outputs": [],
   "source": []
  }
 ],
 "metadata": {
  "kernelspec": {
   "display_name": "Python 3",
   "language": "python",
   "name": "python3"
  },
  "language_info": {
   "codemirror_mode": {
    "name": "ipython",
    "version": 3
   },
   "file_extension": ".py",
   "mimetype": "text/x-python",
   "name": "python",
   "nbconvert_exporter": "python",
   "pygments_lexer": "ipython3",
   "version": "3.8.5"
  }
 },
 "nbformat": 4,
 "nbformat_minor": 4
}
